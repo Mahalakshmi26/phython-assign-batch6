{
  "nbformat": 4,
  "nbformat_minor": 0,
  "metadata": {
    "colab": {
      "name": "ass5.ipynb",
      "provenance": [],
      "collapsed_sections": [],
      "authorship_tag": "ABX9TyO78XIHPRJlCt/D1oXlU3Ln",
      "include_colab_link": true
    },
    "kernelspec": {
      "name": "python3",
      "display_name": "Python 3"
    }
  },
  "cells": [
    {
      "cell_type": "markdown",
      "metadata": {
        "id": "view-in-github",
        "colab_type": "text"
      },
      "source": [
        "<a href=\"https://colab.research.google.com/github/Mahalakshmi26/phython-assign-batch6/blob/master/ass5.ipynb\" target=\"_parent\"><img src=\"https://colab.research.google.com/assets/colab-badge.svg\" alt=\"Open In Colab\"/></a>"
      ]
    },
    {
      "cell_type": "code",
      "metadata": {
        "id": "jU8XG-sSzfxi",
        "colab_type": "code",
        "colab": {
          "base_uri": "https://localhost:8080/",
          "height": 34
        },
        "outputId": "1a2ea83a-f469-4d9c-f31d-06bdd2c8778f"
      },
      "source": [
        "list1=[0,1,2,10,4,1,0,56,2,0,1,30,56,0,4]\n",
        "list1.sort()\n",
        "i=list1.count(0);\n",
        "print(list1[i:]+list1[:i])"
      ],
      "execution_count": 3,
      "outputs": [
        {
          "output_type": "stream",
          "text": [
            "[1, 1, 1, 2, 2, 4, 4, 10, 30, 56, 56, 0, 0, 0, 0]\n"
          ],
          "name": "stdout"
        }
      ]
    },
    {
      "cell_type": "code",
      "metadata": {
        "id": "XLCTKMhudXnB",
        "colab_type": "code",
        "colab": {
          "base_uri": "https://localhost:8080/",
          "height": 204
        },
        "outputId": "ecb2a61c-c1f4-4e8e-cc81-01cc3f466f5a"
      },
      "source": [
        "list1=[10,20,40,60,70,80]\n",
        "list2=[5,15,25,35,45,60]\n",
        "resort=list1+list2\n",
        "for each in range(5,81):\n",
        "  if each in resort:\n",
        "    print(each)"
      ],
      "execution_count": 8,
      "outputs": [
        {
          "output_type": "stream",
          "text": [
            "5\n",
            "10\n",
            "15\n",
            "20\n",
            "25\n",
            "35\n",
            "40\n",
            "45\n",
            "60\n",
            "70\n",
            "80\n"
          ],
          "name": "stdout"
        }
      ]
    }
  ]
}